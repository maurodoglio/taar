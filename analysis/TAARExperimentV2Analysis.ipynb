{
 "cells": [
  {
   "cell_type": "markdown",
   "metadata": {},
   "source": [
    "# Setup + Utils"
   ]
  },
  {
   "cell_type": "code",
   "execution_count": 74,
   "metadata": {},
   "outputs": [],
   "source": [
    "import pyspark.sql.functions as F\n",
    "from pyspark.sql import Row\n",
    "import pyspark.sql.types as T\n",
    "import pandas as pd\n",
    "import re\n",
    "import matplotlib.pyplot as plt\n",
    "import seaborn as sns\n",
    "import datetime as dt\n",
    "from collections import Counter\n",
    "from IPython.display import Markdown, display\n",
    "from moztelemetry import Dataset\n",
    "from pyspark.sql.window import Window\n",
    "\n",
    "sc.setLogLevel(\"INFO\")\n",
    "sns.set(style='whitegrid')\n",
    "% matplotlib inline"
   ]
  },
  {
   "cell_type": "code",
   "execution_count": 75,
   "metadata": {},
   "outputs": [],
   "source": [
    "def md(md_text):\n",
    "    \"\"\" Print Markdown text so that it renders correctly in the cell output. \"\"\"\n",
    "    display(Markdown(md_text))\n",
    "    \n",
    "    \n",
    "def date_plus_x_days(date, x):\n",
    "    new_date = dt.datetime.strptime(date, '%Y%m%d') + dt.timedelta(days=x)\n",
    "    return new_date.strftime('%Y%m%d')\n",
    "\n",
    "def _date_diff(d1, d2):\n",
    "    if d1 and d2:\n",
    "        try:\n",
    "            d1, d2 = [pd.to_datetime(i, format=\"%Y%m%d\") for i in (d1, d2)]\n",
    "            return (d1 - d2).days\n",
    "        except ValueError:\n",
    "            pass\n",
    "    return None\n",
    "    \n",
    "def get_install_rates_disco(d, grouper=['branch']):\n",
    "    # how many clients had 1+ install per branch\n",
    "    installs = (\n",
    "        d.filter(\"ping_type = 'install'\")\n",
    "         .filter(\"addon_id not like '%mozilla%'\")\n",
    "         .filter(\"src = 'about:addons'\")\n",
    "    )\n",
    "    \n",
    "    distinct_clients_that_installed = (\n",
    "         installs\n",
    "         .groupby(grouper)\n",
    "         .agg(F.countDistinct('client_id')\n",
    "               .alias(\"distinct_clients_that_installed\"))\n",
    "         .toPandas()\n",
    "    )\n",
    "\n",
    "    # installs per client\n",
    "    installs_per_client = (\n",
    "        installs\n",
    "         .groupby(grouper + ['client_id'])\n",
    "         .agg(F.countDistinct('addon_id')\n",
    "               .alias(\"n_installs_per_client\"))\n",
    "         .groupby(grouper)\n",
    "         .agg(F.avg(\"n_installs_per_client\").alias(\"avg_num_installs_per_client\"))\n",
    "         .toPandas()\n",
    "    )\n",
    "    \n",
    "    # total distinct clients\n",
    "    total_counts = (\n",
    "        d.select([\"client_id\"] + grouper)\n",
    "         .filter(\"discopane_loaded = true\")\n",
    "         .distinct()\n",
    "         .groupby(grouper).count().toPandas()\n",
    "    )\n",
    "    \n",
    "    \n",
    "    total_counts.columns = grouper +  ['total_distinct_clients']\n",
    "\n",
    "    # join for getting proportions\n",
    "    m = (\n",
    "        pd.merge(\n",
    "            pd.merge(distinct_clients_that_installed, \n",
    "                     installs_per_client, on=grouper), \n",
    "            total_counts, on=grouper)\n",
    "    )\n",
    "    \n",
    "    m['prob_at_least_one_install'] = m.distinct_clients_that_installed / m.total_distinct_clients\n",
    "    m['src'] = 'about:addons'\n",
    "    return m\n",
    "\n",
    "def get_install_rates_AMO_total(d, grouper=['branch'], saw_treatment=True):\n",
    "     # how many clients had 1+ install per branch\n",
    "        \n",
    "    \n",
    "    treatment_indicator = (\n",
    "         d.groupby(\"client_id\")\n",
    "          .agg(F.max(bool2int('discopane_loaded')).alias('saw_treatment'))\n",
    "    )\n",
    "    \n",
    "    d_group = d.join(treatment_indicator\n",
    "                     .filter(treatment_indicator.saw_treatment == int(saw_treatment)),\n",
    "                     on='client_id')\n",
    "    \n",
    "    if saw_treatment == False:\n",
    "        # comparison by branch irrelevant \n",
    "        # if the sample never navigated to discopane\n",
    "        d_group = d_group.withColumn(\"branch\", F.lit(\"All\"))\n",
    "    \n",
    "    installs = (\n",
    "        d_group.filter(\"ping_type = 'install'\")\n",
    "         .filter(\"addon_id not like '%mozilla%'\")\n",
    "         .filter(\"src = 'AMO'\")\n",
    "    )\n",
    "    \n",
    "    \n",
    "    distinct_clients_that_installed = (\n",
    "         installs\n",
    "         .groupby(grouper)\n",
    "         .agg(F.countDistinct('client_id')\n",
    "               .alias(\"distinct_clients_that_installed\"))\n",
    "         .toPandas()\n",
    "    )\n",
    "\n",
    "    installs_per_client = (\n",
    "        installs\n",
    "         .groupby(grouper + ['client_id'])\n",
    "         .agg(F.countDistinct('addon_id')\n",
    "               .alias(\"n_installs_per_client\"))\n",
    "         .groupby(grouper)\n",
    "         .agg(F.avg(\"n_installs_per_client\").alias(\"avg_num_installs_per_client\"))\n",
    "         .toPandas()\n",
    "    )\n",
    "    \n",
    "    # total distinct clients\n",
    "    total_counts = (\n",
    "        d_group.select([\"client_id\"] + grouper)\n",
    "         .distinct()\n",
    "         .groupby(grouper).count().toPandas()\n",
    "    )\n",
    "    \n",
    "    \n",
    "    total_counts.columns = grouper +  ['total_distinct_clients']\n",
    "\n",
    "    # join for getting proportions\n",
    "    m = (\n",
    "        pd.merge(\n",
    "            pd.merge(distinct_clients_that_installed, \n",
    "                     installs_per_client, on=grouper), \n",
    "            total_counts, on=grouper)\n",
    "    )\n",
    "    \n",
    "    m['prob_at_least_one_install'] = m.distinct_clients_that_installed / m.total_distinct_clients\n",
    "    m['src'] = 'AMO'\n",
    "    return m\n",
    "\n",
    "def get_visitation_rates(d, grouper=['branch']):\n",
    "    visits = (\n",
    "        d.filter(\"ping_type = 'disco-pane-loaded'\")\n",
    "         .filter(\"dwell_time > 0\")\n",
    "         .groupby(grouper).count().toPandas()\n",
    "    )\n",
    "    visits.columns = grouper +  [\"total_visits\"]\n",
    "\n",
    "    total_counts = (\n",
    "        d.select([\"client_id\"] + grouper)\n",
    "         .filter(\"discopane_loaded = true\")\n",
    "          .distinct()\n",
    "         .groupby(grouper).count().toPandas()\n",
    "    )\n",
    "    total_counts.columns = grouper +  ['total_distinct_clients']\n",
    "\n",
    "\n",
    "    mv = pd.merge(visits, total_counts, on=grouper)\n",
    "    mv['visits_per_client'] = mv.total_visits / mv.total_distinct_clients\n",
    "    return mv\n",
    "\n",
    "def get_uninstall_rates(d, grouper=['branch']):\n",
    "    first_install = (\n",
    "    d.filter(\"ping_type = 'install'\")\n",
    "     .filter(\"src = 'about:addons'\")\n",
    "         .filter(\"addon_id not like '%mozilla%'\")\n",
    "         .groupby(\"client_id\").agg(F.min(\"submission_date_s3\").alias(\"first_install_date\"))\n",
    "    ).cache()\n",
    "\n",
    "    fields = ['client_id', 'addon_id'] + grouper\n",
    "\n",
    "    installs = (\n",
    "        d.filter(\"ping_type = 'install'\")\n",
    "         .filter(\"src = 'about:addons'\")\n",
    "         .filter(\"addon_id not like '%mozilla%'\")\n",
    "         .select(fields)\n",
    "         .distinct()\n",
    "    ).cache()\n",
    "\n",
    "\n",
    "    installs_and_final_addons = (\n",
    "        installs.groupby([\"client_id\"] + grouper)\n",
    "                .agg(F.collect_set(\"addon_id\").alias(\"installs\"))\n",
    "        .join(first_install, on='client_id')\n",
    "        .join(d.groupby(\"client_id\")\n",
    "               .agg(F.max(\"submission_date_s3\").alias(\"submission_date_s3\"))\n",
    "               .join(d.select(\"client_id\", \"submission_date_s3\", F.explode(\"current_addons\").alias(\"addon_id\"))\n",
    "                       .filter(\"addon_id not like '%mozilla%'\"),\n",
    "                    on=['client_id', 'submission_date_s3'])\n",
    "               .withColumnRenamed(\"submission_date_s3\", \"last_ping\")\n",
    "               .groupby(\"client_id\", \"last_ping\")\n",
    "               .agg(F.collect_set(\"addon_id\").alias(\"retained\")),\n",
    "              on='client_id')      \n",
    "    )\n",
    "\n",
    "    uninstalls = (\n",
    "     installs_and_final_addons\n",
    "        .filter(\"last_ping > first_install_date\")\n",
    "        .withColumn('not_retained', set_diff(\"installs\", \"retained\")) \n",
    "        .select(grouper + [F.explode(\"not_retained\")]) \n",
    "        .groupby(grouper)\n",
    "        .agg(F.count(F.lit(1)).alias(\"n_installed\"))\n",
    "        .join(\n",
    "          installs_and_final_addons\n",
    "            .select(grouper + [F.explode(\"installs\")]) \n",
    "            .groupby(grouper)\n",
    "            .agg(F.count(F.lit(1)).alias(\"n_total\")),\n",
    "         on=grouper)\n",
    "    ).toPandas()\n",
    "\n",
    "\n",
    "    uninstalls['n_retained'] = uninstalls.n_total - uninstalls.n_installed\n",
    "    uninstalls['addon_retention_rate'] = uninstalls.n_retained / uninstalls.n_total\n",
    "    return uninstalls\n",
    "\n",
    "def _format_creation_date(d):\n",
    "    d = d.split('.')[0]\n",
    "    return long(re.sub(\"[-T:]\", '', d))\n",
    "\n",
    "format_creation_date = F.udf(_format_creation_date, T.LongType())\n",
    "set_diff = F.udf(lambda x, y: list(set(x) - set(y)), T.ArrayType(T.StringType()))\n",
    "date_diff = F.udf(_date_diff, T.LongType())\n",
    "branch_counts = lambda x: x.groupby('branch').agg(F.countDistinct(\"client_id\")).toPandas()\n",
    "bool2int = F.udf(lambda x: 1 if x else 0, T.IntegerType())"
   ]
  },
  {
   "cell_type": "markdown",
   "metadata": {},
   "source": [
    "# Data Loading"
   ]
  },
  {
   "cell_type": "code",
   "execution_count": 76,
   "metadata": {},
   "outputs": [
    {
     "name": "stdout",
     "output_type": "stream",
     "text": [
      "n pings: 8961698\n",
      "n clients: 3493614\n"
     ]
    },
    {
     "data": {
      "text/html": [
       "<div>\n",
       "<table border=\"1\" class=\"dataframe\">\n",
       "  <thead>\n",
       "    <tr style=\"text-align: right;\">\n",
       "      <th></th>\n",
       "      <th>branch</th>\n",
       "      <th>count(DISTINCT client_id)</th>\n",
       "    </tr>\n",
       "  </thead>\n",
       "  <tbody>\n",
       "    <tr>\n",
       "      <th>0</th>\n",
       "      <td>ensemble-taar</td>\n",
       "      <td>1164434</td>\n",
       "    </tr>\n",
       "    <tr>\n",
       "      <th>1</th>\n",
       "      <td>control</td>\n",
       "      <td>1165835</td>\n",
       "    </tr>\n",
       "    <tr>\n",
       "      <th>2</th>\n",
       "      <td>linear-taar</td>\n",
       "      <td>1163444</td>\n",
       "    </tr>\n",
       "  </tbody>\n",
       "</table>\n",
       "</div>"
      ],
      "text/plain": [
       "          branch  count(DISTINCT client_id)\n",
       "0  ensemble-taar                    1164434\n",
       "1        control                    1165835\n",
       "2    linear-taar                    1163444"
      ]
     },
     "execution_count": 76,
     "metadata": {},
     "output_type": "execute_result"
    }
   ],
   "source": [
    "S3_PATH = \"s3://net-mozaws-prod-us-west-2-pipeline-analysis/taarv2/data\"\n",
    "START_DATE = '20180312'\n",
    "RELOAD_MS = False\n",
    "\n",
    "data = sqlContext.read.parquet(S3_PATH)\n",
    "exp_data = data.filter(\"submission_date_s3 >= '{}'\".format(START_DATE))\n",
    "N = exp_data.count()\n",
    "print \"n pings:\", N\n",
    "print \"n clients:\", exp_data.select(\"client_id\").distinct().count()\n",
    "\n",
    "branch_counts(exp_data)"
   ]
  },
  {
   "cell_type": "code",
   "execution_count": 77,
   "metadata": {
    "scrolled": true
   },
   "outputs": [
    {
     "name": "stdout",
     "output_type": "stream",
     "text": [
      "root\n",
      " |-- addon_id: string (nullable = true)\n",
      " |-- clicked_button: boolean (nullable = true)\n",
      " |-- client_id: string (nullable = true)\n",
      " |-- creation_date: string (nullable = true)\n",
      " |-- current_addons: array (nullable = true)\n",
      " |    |-- element: string (containsNull = true)\n",
      " |-- discopane_loaded: boolean (nullable = true)\n",
      " |-- dwell_time: long (nullable = true)\n",
      " |-- locale: string (nullable = true)\n",
      " |-- ping_type: string (nullable = true)\n",
      " |-- saw_popup: boolean (nullable = true)\n",
      " |-- src: string (nullable = true)\n",
      " |-- start_time_utc: long (nullable = true)\n",
      " |-- submission_date_s3: string (nullable = true)\n",
      " |-- branch: string (nullable = true)\n",
      "\n"
     ]
    }
   ],
   "source": [
    "exp_data.printSchema()"
   ]
  },
  {
   "cell_type": "markdown",
   "metadata": {},
   "source": [
    "# Cleaning"
   ]
  },
  {
   "cell_type": "markdown",
   "metadata": {},
   "source": [
    "We must verify our assumptions and requirements about the experiment data before performing any analysis. Any clients that do not conform to these assumptions will be excluded. The code below continuously adds non-conforming `client_id`s to a blacklist.\n",
    "\n",
    "\n"
   ]
  },
  {
   "cell_type": "markdown",
   "metadata": {},
   "source": [
    "#### Assumption: Each client has a `profile_creation_date` within 21 days of their first experiment ping, **and** each client has not submitted a main ping > 21 days before their first experimental ping"
   ]
  },
  {
   "cell_type": "code",
   "execution_count": 78,
   "metadata": {},
   "outputs": [
    {
     "name": "stdout",
     "output_type": "stream",
     "text": [
      "loading pre-aggregated datasets\n"
     ]
    }
   ],
   "source": [
    "if not RELOAD_MS:\n",
    "    # load pre aggregated data, generated from 'else' statement\n",
    "    # as it is quite expensive\n",
    "    ms_min_dates = (sqlContext.read\n",
    "                    .parquet(\"s3://net-mozaws-prod-us-west-2-pipeline-analysis/taarv2/ms-min-dates/\"))\n",
    "    blacklist_clients = (sqlContext.read\n",
    "                         .parquet(\"s3://net-mozaws-prod-us-west-2-pipeline-analysis/taarv2/blacklist-clients/\")\n",
    "                         .select('client_id').distinct())\n",
    "    print \"loading pre-aggregated datasets\"\n",
    "else:\n",
    "    # load main_summary a month before study start date\n",
    "    ms = (\n",
    "        sqlContext.read.option(\"mergeSchema\", True)\n",
    "                  .parquet(\"s3://telemetry-parquet/main_summary/v4\")\n",
    "                  .filter(\"submission_Date_s3 > '{}'\".format(date_plus_x_days(START_DATE, -30)))\n",
    "                  .filter(\"submission_date_s3 <= '{}'\".format('20180423'))\n",
    "                  .filter(\"app_name = 'Firefox'\")\n",
    "                  .filter(\"normalized_channel = 'release'\")\n",
    "                  .select(\"client_id\", \n",
    "                          \"profile_creation_date\", \n",
    "                          'locale', 'profile_creation_date', \"submission_date_s3\", \n",
    "                          \"sample_id\", \"active_addons\", \"apple_model_id\", \"memory_mb\")\n",
    "    )\n",
    "\n",
    "    # clients with different locales, apple_model_id (null for PC)\n",
    "    # or memory_mb are excluded. Potentially ignores clients\n",
    "    # with new hardware.\n",
    "    blacklist_clients = (\n",
    "        ms.select(\"client_id\", 'locale', 'apple_model_id', 'memory_mb').distinct()\n",
    "          .groupby('client_id').agg(F.count(F.lit(1)).alias('count'))\n",
    "    ).filter(\"count > 1\").select(\"client_id\", F.lit(1).alias(\"blacklist\"))\n",
    "\n",
    "    # get the min submission_date_s3 and min PCD (should be constant)\n",
    "    # per client\n",
    "    ms_min_dates = (\n",
    "        ms.groupBy(\"client_id\")\n",
    "          .agg(F.min('profile_creation_date').alias('min_pcd'),\n",
    "               F.min('submission_date_s3').alias(\"min_submission_date\"))\n",
    "    )\n",
    "    \n",
    "    # write to s3 for faster iterations moving forward\n",
    "    (ms_min_dates\n",
    "     .repartition(50)\n",
    "     .write\n",
    "     .mode(\"overwrite\")\n",
    "     .parquet(\"s3://net-mozaws-prod-us-west-2-pipeline-analysis/taarv2/ms-min-dates/\"))\n",
    "\n",
    "    # write to s3 for faster iterations moving forward\n",
    "    (blacklist_clients\n",
    "     .repartition(10)\n",
    "     .write\n",
    "     .mode(\"overwrite\")\n",
    "     .parquet(\"s3://net-mozaws-prod-us-west-2-pipeline-analysis/taarv2/blacklist-clients/\"))\n",
    "\n",
    "    \n",
    "# join with blacklist clients, and filter clients\n",
    "# with multiple locales, hardware ids and/or memory\n",
    "joined = (\n",
    "    exp_data.join(ms_min_dates, on='client_id', how='left')\n",
    "        .withColumn(\"min_pcd\", \n",
    "                    F.from_unixtime(F.col(\"min_pcd\") * 60 * 60 * 24, 'yyyyMMdd'))\n",
    ").cache()"
   ]
  },
  {
   "cell_type": "code",
   "execution_count": 79,
   "metadata": {},
   "outputs": [
    {
     "data": {
      "text/plain": [
       "<matplotlib.text.Text at 0x7fb5c4454dd0>"
      ]
     },
     "execution_count": 79,
     "metadata": {},
     "output_type": "execute_result"
    },
    {
     "data": {
      "image/png": "[encoded data removed]",
      "text/plain": [
       "<matplotlib.figure.Figure at 0x7fb5c2becf10>"
      ]
     },
     "metadata": {},
     "output_type": "display_data"
    }
   ],
   "source": [
    "min_start_dates = joined.groupBy(\"client_id\").agg(F.min(\"start_time_utc\").alias(\"min_start_date\"))\n",
    "\n",
    "agg = (\n",
    "    joined.join(min_start_dates, on=\"client_id\")\n",
    "            .withColumn(\"days_before_first_ping\", date_diff(\"min_submission_date\", \"min_pcd\"))\n",
    "            .withColumn(\"days_before_exp_start\", date_diff(F.lit(START_DATE), \"min_submission_date\"))\n",
    ")\n",
    "\n",
    "days_before = agg.groupby(\"days_before_exp_start\").count().toPandas()\n",
    "days_before['days_before_exp_start'] *= -1\n",
    "\n",
    "plt.rcParams['figure.figsize'] = (10, 5)\n",
    "days_before.sort_values(\"days_before_exp_start\").plot.bar(x=\"days_before_exp_start\")\n",
    "plt.title(\"Distribution of min(submission_date_s3) - Experiment Start Date in Days\")\n",
    "plt.xlabel(\"Days from Start Date (0 = Start Date)\")"
   ]
  },
  {
   "cell_type": "code",
   "execution_count": 80,
   "metadata": {},
   "outputs": [
    {
     "name": "stdout",
     "output_type": "stream",
     "text": [
      "13181 clients were added to the blacklist\n"
     ]
    }
   ],
   "source": [
    "# no client should have a ping or pcd > 21 days from the experiment start date\n",
    "# validating normandy targetting critera\n",
    "# join back with exp_data and blacklist since this \n",
    "# the current blacklist considers all of main_summary, not just the exp data\n",
    "blacklist_clients = (\n",
    "    agg.filter(\"min_submission_date < '{}'\".format(date_plus_x_days(START_DATE, -21)))\n",
    "       .filter(\"min_pcd < '{}'\".format(date_plus_x_days(START_DATE, -21)))\n",
    "       .select(\"client_id\")\n",
    "       .join(exp_data.select(\"client_id\"), on='client_id', how='inner')\n",
    "       .join(blacklist_clients, on='client_id', how='inner')\n",
    "       .select(\"client_id\").distinct()\n",
    ")\n",
    "\n",
    "\n",
    "bl_n = blacklist_clients.count()\n",
    "print \"{} clients were added to the blacklist\".format(bl_n)"
   ]
  },
  {
   "cell_type": "markdown",
   "metadata": {},
   "source": [
    "#### Assumption: clients that installed from disco-pane have a true value for `discopane_loaded`"
   ]
  },
  {
   "cell_type": "code",
   "execution_count": 81,
   "metadata": {
    "scrolled": false
   },
   "outputs": [
    {
     "name": "stdout",
     "output_type": "stream",
     "text": [
      "309 clients were added to the blacklist\n"
     ]
    }
   ],
   "source": [
    "w = Window.partitionBy(\"client_id\").orderBy(\"creation_date_formatted\")\n",
    "cum = (F.sum('dwell_time').over(w))\n",
    "\n",
    "cum_dwell = (exp_data.withColumn(\"creation_date_formatted\", format_creation_date(\"creation_date\"))\n",
    "         .withColumn(\"dwell_time_cum\", cum)\n",
    "         .sort('client_id', 'creation_date_formatted')\n",
    "         .select(\"client_id\", 'creation_date_formatted', \n",
    "                 'creation_date', 'discopane_loaded', 'dwell_time_cum'))\n",
    "\n",
    "\n",
    "# override discopane_loaded if dwell_time_cum is non-zero\n",
    "# since a client should by definition have loaded the page\n",
    "# if they dwelled for more than 0 seconds. Leave discopane_loaded\n",
    "# untouched if it is true. This \n",
    "exp_data = (\n",
    "    exp_data.join(cum_dwell.select(\"client_id\", \n",
    "                               'creation_date', \n",
    "                               'dwell_time_cum'),\n",
    "                  on=['client_id', 'creation_date'])\n",
    "            .withColumn(\"discopane_loaded\", F.col('discopane_loaded') | (F.col('dwell_time_cum') > 0))\n",
    ")\n",
    "\n",
    "# initialize blacklist\n",
    "# as clients shown to have installed from\n",
    "# discopane without ever loading it (~400 pings, so small)\n",
    "blacklist_clients = blacklist_clients.unionAll(\n",
    "    exp_data.filter(\"ping_type='install' and src='about:addons' and discopane_loaded = false\")\n",
    "    .select(\"client_id\").distinct()\n",
    ")\n",
    "\n",
    "\n",
    "# print blacklist additions and update\n",
    "new_bl_n = blacklist_clients.count()\n",
    "print \"{} clients were added to the blacklist\".format(new_bl_n - bl_n)\n",
    "new_bl = new_bl_n"
   ]
  },
  {
   "cell_type": "markdown",
   "metadata": {},
   "source": [
    "#### Assumption: Each client belongs to only one branch"
   ]
  },
  {
   "cell_type": "code",
   "execution_count": null,
   "metadata": {},
   "outputs": [
    {
     "name": "stdout",
     "output_type": "stream",
     "text": [
      "385 clients were added to the blacklist\n"
     ]
    }
   ],
   "source": [
    "# count the number of distinct branches per client\n",
    "multiple_cohort_clients = (\n",
    "    exp_data.groupBy(\"client_id\")\n",
    "        .agg(F.collect_set(\"branch\").alias(\"branches\"))\n",
    "        .withColumn(\"n_branches\", F.size(\"branches\"))\n",
    "        .filter(\"n_branches > 1\")\n",
    ")\n",
    "\n",
    "\n",
    "\n",
    "blacklist_clients = (\n",
    "    blacklist_clients.unionAll(multiple_cohort_clients.select(\"client_id\").distinct())\n",
    ")\n",
    "\n",
    "\n",
    "# print blacklist additions and update\n",
    "new_bl_n = blacklist_clients.count()\n",
    "print \"{} clients were added to the blacklist\".format(new_bl_n - bl_n)\n",
    "new_bl = new_bl_n"
   ]
  },
  {
   "cell_type": "markdown",
   "metadata": {},
   "source": [
    "#### Requirement: No Firefox Pioneers"
   ]
  },
  {
   "cell_type": "code",
   "execution_count": null,
   "metadata": {},
   "outputs": [],
   "source": [
    "pioneers = (\n",
    "    agg.select(\"client_id\", F.explode(\"current_addons\").alias(\"addon_id)\"))\n",
    "     .filter(\"addon_id like 'pioneer-enrollment%'\")\n",
    "     .select(\"client_id\")\n",
    "     .distinct()\n",
    ")\n",
    "\n",
    "blacklist_clients = blacklist_clients.unionAll(pioneers).distinct()\n",
    "\n",
    "# print blacklist additions and update\n",
    "new_bl_n = blacklist_clients.count()\n",
    "print \"{} clients were added to the blacklist\".format(new_bl_n - bl_n)\n",
    "new_bl = new_bl_n"
   ]
  },
  {
   "cell_type": "markdown",
   "metadata": {},
   "source": [
    "#### Black List and Whitelist Filtering"
   ]
  },
  {
   "cell_type": "code",
   "execution_count": null,
   "metadata": {},
   "outputs": [],
   "source": [
    "%%bash\n",
    "# loading whitelists/blacklists generated here: \n",
    "# https://github.com/mozilla/taar/blob/master/analysis/TAARLogMunge.ipynb\n",
    "aws s3 cp s3://net-mozaws-prod-us-west-2-pipeline-analysis/failed_dynamo_clients.csv .\n",
    "aws s3 cp s3://net-mozaws-prod-us-west-2-pipeline-analysis/clients_served_linear.csv .\n",
    "aws s3 cp s3://net-mozaws-prod-us-west-2-pipeline-analysis/clients_served_ensemble.csv ."
   ]
  },
  {
   "cell_type": "code",
   "execution_count": null,
   "metadata": {},
   "outputs": [],
   "source": [
    "load_list = (lambda x: sc.parallelize(list(pd.read_json(x)[0]))\n",
    "                          .map(lambda x: Row(client_id=x))\n",
    "                          .toDF())\n",
    "def filter_bl(d, bl):\n",
    "    return (\n",
    "        d.join(bl.select(\"client_id\", F.lit(1).alias(\"in_bl\")),\n",
    "               on=\"client_id\", how='left')\n",
    "         .filter(\"in_bl is null\")\n",
    "    )"
   ]
  },
  {
   "cell_type": "code",
   "execution_count": null,
   "metadata": {},
   "outputs": [],
   "source": [
    "# load whitelist and convert to SparkDF\n",
    "linear_whitelist = load_list('clients_served_linear.csv').distinct()\n",
    "ensemble_whitelist =  load_list('clients_served_ensemble.csv').distinct()\n",
    "blacklist_clients = blacklist_clients.unionAll(load_list('failed_dynamo_clients.csv')).distinct()\n",
    "\n",
    "print \"Clients in the linear whitelist:\", linear_whitelist.count()\n",
    "print \"Clients in the ensemble whitelist:\", ensemble_whitelist.count()\n",
    "print \"Clients in the blacklist:\", blacklist_clients.count()\n",
    "\n",
    "# filter out blacklist from master data\n",
    "exp_data_bl = filter_bl(exp_data, blacklist_clients)\n",
    "\n",
    "linear_filtered  = exp_data_bl.filter(\"branch = 'linear-taar'\").join(linear_whitelist, on='client_id')\n",
    "ensemble_filtered = exp_data_bl.filter(\"branch = 'ensemble-taar'\").join(ensemble_whitelist, on='client_id')\n",
    "control = exp_data_bl.filter(\"branch = 'control'\")\n",
    "\n",
    "cols=linear_filtered.columns\n",
    "\n",
    "d_bl_wl = (\n",
    "    linear_filtered\n",
    "    .unionAll(ensemble_filtered.select(cols))\n",
    "    .unionAll(control.select(cols))\n",
    ")\n",
    "\n",
    "d_bl_wl = d_bl_wl.withColumn('is_en_US', d_bl_wl.locale == 'en-US').cache()"
   ]
  },
  {
   "cell_type": "markdown",
   "metadata": {},
   "source": [
    "# Data Aggregation for Analysis\n",
    "\n"
   ]
  },
  {
   "cell_type": "markdown",
   "metadata": {},
   "source": [
    "### Installation rates by branch / source"
   ]
  },
  {
   "cell_type": "code",
   "execution_count": null,
   "metadata": {
    "scrolled": false
   },
   "outputs": [],
   "source": [
    "m = pd.concat([get_install_rates_disco(d_bl_wl),\n",
    "               get_install_rates_AMO_total(d_bl_wl)])\n",
    "m.to_csv(\"installs.csv\", index=False)\n",
    "m.sort_values(['src', 'branch'])\n",
    "m"
   ]
  },
  {
   "cell_type": "code",
   "execution_count": null,
   "metadata": {},
   "outputs": [],
   "source": [
    "%%bash -s \"$S3_PATH\"\n",
    "aws s3 cp installs.csv $1taar-installs.csv"
   ]
  },
  {
   "cell_type": "markdown",
   "metadata": {},
   "source": [
    "### Installation rates by branch / source / en-US vs. Non en-US"
   ]
  },
  {
   "cell_type": "code",
   "execution_count": null,
   "metadata": {},
   "outputs": [],
   "source": [
    "men = pd.concat([get_install_rates_disco(d_bl_wl, grouper=['branch', 'is_en_US']),\n",
    "               get_install_rates_AMO_total(d_bl_wl, grouper=['branch', 'is_en_US'])])\n",
    "men.to_csv(\"en-us-installs.csv\", index=False)\n",
    "men.sort_values(['src', 'branch'])\n",
    "men"
   ]
  },
  {
   "cell_type": "code",
   "execution_count": null,
   "metadata": {},
   "outputs": [],
   "source": [
    "%%bash -s \"$S3_PATH\"\n",
    "aws s3 cp en-us-installs.csv $1taar-en-us-installs.csv"
   ]
  },
  {
   "cell_type": "markdown",
   "metadata": {},
   "source": [
    "### Installation rates by branch / source / all locales"
   ]
  },
  {
   "cell_type": "code",
   "execution_count": null,
   "metadata": {
    "scrolled": false
   },
   "outputs": [],
   "source": [
    "ml = pd.concat([get_install_rates_disco(d_bl_wl, grouper=['branch', 'locale']),\n",
    "               get_install_rates_AMO_total(d_bl_wl, grouper=['branch', 'locale'])])\n",
    "ml.to_csv(\"locale-installs.csv\", index=False)\n",
    "ml.sort_values(['src', 'branch'])\n",
    "ml"
   ]
  },
  {
   "cell_type": "code",
   "execution_count": null,
   "metadata": {},
   "outputs": [],
   "source": [
    "%%bash -s \"$S3_PATH\"\n",
    "aws s3 cp locale-installs.csv $1taar-locale-installs.csv"
   ]
  },
  {
   "cell_type": "markdown",
   "metadata": {},
   "source": [
    "### Visitation rate to about:addons by branch"
   ]
  },
  {
   "cell_type": "code",
   "execution_count": null,
   "metadata": {},
   "outputs": [],
   "source": [
    "mv = get_visitation_rates(d_bl_wl)\n",
    "mv.to_csv(\"visits.csv\", index=False)\n",
    "mv"
   ]
  },
  {
   "cell_type": "markdown",
   "metadata": {},
   "source": [
    "### Visitation rate to about:addons by branch / en-US vs. Non en-US"
   ]
  },
  {
   "cell_type": "code",
   "execution_count": null,
   "metadata": {
    "scrolled": true
   },
   "outputs": [],
   "source": [
    "mev = get_visitation_rates(d_bl_wl, grouper=['branch', 'is_en_US'])\n",
    "mev.to_csv(\"en-us-visits.csv\", index=False)\n",
    "mev"
   ]
  },
  {
   "cell_type": "markdown",
   "metadata": {},
   "source": [
    "### Visitation rate to about:addons by branch / locale"
   ]
  },
  {
   "cell_type": "code",
   "execution_count": null,
   "metadata": {
    "scrolled": false
   },
   "outputs": [],
   "source": [
    "mvl = get_visitation_rates(d_bl_wl, ['branch', 'locale'])\n",
    "mvl.to_csv(\"locale-visits.csv\", index=False)\n",
    "mvl"
   ]
  },
  {
   "cell_type": "code",
   "execution_count": null,
   "metadata": {},
   "outputs": [],
   "source": [
    "%%bash -s \"$S3_PATH\"\n",
    "aws s3 cp visits.csv $1taar-visits.csv\n",
    "aws s3 cp en-us-visits.csv $1taar-en-us-visits.csv\n",
    "aws s3 cp locale-visits.csv $1taar-locale-visits.csv"
   ]
  },
  {
   "cell_type": "markdown",
   "metadata": {},
   "source": [
    "### Add-on installations per Day/Branch"
   ]
  },
  {
   "cell_type": "code",
   "execution_count": null,
   "metadata": {},
   "outputs": [],
   "source": [
    "daily = pd.concat([\n",
    "    get_install_rates_AMO_total(d_bl_wl, grouper=['branch', 'submission_date_s3']),\n",
    "    get_install_rates_disco(d_bl_wl, grouper=['branch', 'submission_date_s3'])\n",
    "])\n",
    "\n",
    "enrollment = (\n",
    "    d_bl_wl.filter(\"ping_type='init'\")\n",
    "    .groupby(\"submission_date_s3\")\n",
    "    .agg(F.countDistinct(\"client_id\").alias(\"count\")).toPandas()\n",
    ")\n",
    "\n",
    "daily.to_csv('daily_installs.csv', index=False)\n",
    "enrollment.to_csv(\"enrollment.csv\", index=False)"
   ]
  },
  {
   "cell_type": "code",
   "execution_count": null,
   "metadata": {},
   "outputs": [],
   "source": [
    "dd = daily[daily.src=='about:addons']\n",
    "fig, ax = plt.subplots()\n",
    "for g, data in dd.groupby('branch'):\n",
    "    data.sort_values(\"submission_date_s3\").plot(x='submission_date_s3', y='prob_at_least_one_install', ax=ax, label=g)\n",
    "plt.show()"
   ]
  },
  {
   "cell_type": "code",
   "execution_count": null,
   "metadata": {},
   "outputs": [],
   "source": [
    "%%bash -s \"$S3_PATH\"\n",
    "aws s3 cp daily_installs.csv $1daily_installs.csv\n",
    "aws s3 cp enrollment.csv $1enrollment.csv"
   ]
  },
  {
   "cell_type": "markdown",
   "metadata": {},
   "source": [
    "### Add-on installations per Day/Branch/en-US locale"
   ]
  },
  {
   "cell_type": "code",
   "execution_count": null,
   "metadata": {},
   "outputs": [],
   "source": [
    "daily_en_us = pd.concat([\n",
    "    get_install_rates_AMO_total(d_bl_wl, grouper=['branch','is_en_US', 'submission_date_s3']),\n",
    "    get_install_rates_disco(d_bl_wl, grouper=['branch', 'is_en_US', 'submission_date_s3'])\n",
    "])\n",
    "\n",
    "enrollment_en_us = (\n",
    "    d_bl_wl.filter(\"ping_type='init'\")\n",
    "    .groupby(\"submission_date_s3\", 'is_en_US')\n",
    "    .agg(F.countDistinct(\"client_id\").alias(\"count\")).toPandas()\n",
    ")\n",
    "\n",
    "daily_en_us.to_csv('daily_installs_en_us.csv', index=False)\n",
    "enrollment_en_us.to_csv(\"enrollment_en_us.csv\", index=False)"
   ]
  },
  {
   "cell_type": "code",
   "execution_count": null,
   "metadata": {},
   "outputs": [],
   "source": [
    "dd = daily_en_us[daily_en_us.src=='about:addons']\n",
    "\n",
    "for en_us, data in dd.groupby(\"is_en_US\"):\n",
    "    fig, ax = plt.subplots()\n",
    "    for g, data1 in data.groupby('branch'):\n",
    "        (data1.sort_values(\"submission_date_s3\")\n",
    "         .plot(title=\"en_US:{}\".format(en_us), \n",
    "               x='submission_date_s3', \n",
    "               y='prob_at_least_one_install', \n",
    "               ax=ax, label=g))\n",
    "plt.show()"
   ]
  },
  {
   "cell_type": "code",
   "execution_count": null,
   "metadata": {},
   "outputs": [],
   "source": [
    "%%bash -s \"$S3_PATH\"\n",
    "aws s3 cp daily_installs_en_us.csv $1daily_installs_en_us.csv\n",
    "aws s3 cp enrollment_en_us.csv $1enrollment_en_us.csv"
   ]
  },
  {
   "cell_type": "markdown",
   "metadata": {},
   "source": [
    "### Add-on installations per Day/Branch/ Locale"
   ]
  },
  {
   "cell_type": "code",
   "execution_count": null,
   "metadata": {},
   "outputs": [],
   "source": [
    "daily_locale = pd.concat([\n",
    "    get_install_rates_AMO_total(d_bl_wl, grouper=['branch','locale', 'submission_date_s3']),\n",
    "    get_install_rates_disco(d_bl_wl, grouper=['branch', 'locale', 'submission_date_s3'])\n",
    "])\n",
    "\n",
    "enrollment_locale = (\n",
    "    d_bl_wl.filter(\"ping_type='init'\")\n",
    "    .groupby(\"submission_date_s3\", 'is_en_US')\n",
    "    .agg(F.countDistinct(\"client_id\").alias(\"count\")).toPandas()\n",
    ")\n",
    "\n",
    "daily_locale.to_csv('daily_installs_locale.csv', index=False)\n",
    "enrollment_locale.to_csv(\"enrollment_locale.csv\", index=False)"
   ]
  },
  {
   "cell_type": "code",
   "execution_count": null,
   "metadata": {
    "code_folding": [],
    "scrolled": false
   },
   "outputs": [],
   "source": [
    "dd = daily_locale[daily_locale.src=='about:addons']\n",
    "\n",
    "for locale, data in dd.groupby(\"locale\"):\n",
    "    fig, ax = plt.subplots()\n",
    "    for g, data1 in data.groupby('branch'):\n",
    "        (data1.sort_values(\"submission_date_s3\")\n",
    "         .plot(title=\"Locale:{}\".format(locale), \n",
    "               x='submission_date_s3', \n",
    "               y='prob_at_least_one_install', \n",
    "               ax=ax, label=g))\n",
    "plt.show()"
   ]
  },
  {
   "cell_type": "code",
   "execution_count": null,
   "metadata": {},
   "outputs": [],
   "source": [
    "%%bash\n",
    "aws s3 cp daily_installs_locale.csv s3://telemetry-test-bucket/bmiroglio/daily_installs_locale.csv\n",
    "aws s3 cp enrollment_locale.csv s3://telemetry-test-bucket/bmiroglio/enrollment_locale.csv"
   ]
  },
  {
   "cell_type": "markdown",
   "metadata": {},
   "source": [
    "### Old UI vs New UI click through rate"
   ]
  },
  {
   "cell_type": "markdown",
   "metadata": {},
   "source": [
    "Load pings from portion of the experiment with the old UI (excluded in all prior cells)"
   ]
  },
  {
   "cell_type": "code",
   "execution_count": null,
   "metadata": {},
   "outputs": [],
   "source": [
    "def collapse_fields(x):\n",
    "    \"\"\"\n",
    "    Collapsed nested field names \n",
    "    and returns a flattened object as a \n",
    "    PySpark Row to prepare for DataFrame \n",
    "    conversion\n",
    "    \"\"\"\n",
    "    if x is None:\n",
    "        x = {}\n",
    "    data = x.get(\"payload\", {}).get(\"data\").get(\"attributes\", {})\n",
    "    addons= x.get(\"environment\", {}).get(\"addons\", {}).get(\"activeAddons\", {})\n",
    "    result = Row(\n",
    "        client_id=x.get(\"clientId\"),\n",
    "        locale=x.get(\"environment\", {}).get(\"settings\", {}).get(\"locale\"),\n",
    "        branch=x.get(\"payload\", {}).get(\"branch\"),\n",
    "        addon_id=data.get(\"addon_id\"),\n",
    "        clicked_button=data.get(\"clickedButton\"))\n",
    "    return result\n",
    "\n",
    "old_ui = (\n",
    "    Dataset.from_source(\"telemetry\")\n",
    "           .where(docType=\"shield-study-addon\")\n",
    "           .where(submissionDate=lambda x: x < START_DATE and x >= '20180305')\n",
    "           .records(sc)\n",
    "           .filter(lambda x: x.get(\"payload\", {}).get(\"study_name\") == \"TAARExperimentV2\")\n",
    "           .filter(lambda x: x.get(\"payload\", {}).get(\"addon_version\") == \"1.0.11\")\n",
    "           .filter(lambda x: x.get(\"payload\", {}).get(\"testing\") == False)\n",
    ").map(collapse_fields).toDF()\n",
    "\n",
    "\n",
    "old_clicked = old_ui.filter(\"clicked_button=true\").select('client_id').distinct().count()\n",
    "old_total = old_ui.select(\"client_id\").distinct().count()\n",
    "\n",
    "new_clicked = exp_data.filter(\"clicked_button=true\").select('client_id').distinct().count()\n",
    "new_total = exp_data.select(\"client_id\").distinct().count()"
   ]
  },
  {
   "cell_type": "code",
   "execution_count": null,
   "metadata": {},
   "outputs": [],
   "source": [
    "ctr = pd.DataFrame([[old_clicked, old_total], [new_clicked, new_total]])\n",
    "ctr['branch'] = ['old', 'new']\n",
    "ctr.columns = ['n_clicked', 'n_total', 'branch']\n",
    "\n",
    "ctr['prob_click'] = ctr.n_clicked / ctr.n_total\n",
    "ctr.to_csv(\"ctr.csv\", index=False)\n",
    "ctr"
   ]
  },
  {
   "cell_type": "code",
   "execution_count": null,
   "metadata": {
    "code_folding": []
   },
   "outputs": [],
   "source": [
    "%%bash\n",
    "aws s3 cp ctr.csv s3://telemetry-test-bucket/bmiroglio/ctr.csv"
   ]
  },
  {
   "cell_type": "markdown",
   "metadata": {},
   "source": [
    "### Old UI vs New UI click through rate by en-US / Non en-US"
   ]
  },
  {
   "cell_type": "code",
   "execution_count": null,
   "metadata": {},
   "outputs": [],
   "source": [
    "old_ui = old_ui.withColumn(\"is_en_US\", old_ui.locale == 'en-US')\n",
    "exp_data = exp_data.withColumn(\"is_en_US\", exp_data.locale == 'en-US')\n",
    "\n",
    "\n",
    "old_ctr = (\n",
    "    old_ui.filter(\"clicked_button = true\")\n",
    "          .groupby(\"is_en_US\")\n",
    "          .agg(F.countDistinct(\"client_id\").alias(\"n_clicked\"))\n",
    "    .join(\n",
    "    old_ui.groupby(\"is_en_US\")\n",
    "          .agg(F.countDistinct(\"client_id\").alias(\"n_total\")),\n",
    "    on='is_en_US')\n",
    ").toPandas()\n",
    "\n",
    "old_ctr['branch'] = 'old'\n",
    "\n",
    "new_ctr = (\n",
    "    exp_data.filter(\"clicked_button = true\")\n",
    "          .groupby(\"is_en_US\")\n",
    "          .agg(F.countDistinct(\"client_id\").alias(\"n_clicked\"))\n",
    "    .join(\n",
    "    exp_data.groupby(\"is_en_US\")\n",
    "          .agg(F.countDistinct(\"client_id\").alias(\"n_total\")),\n",
    "    on='is_en_US')\n",
    ").toPandas()\n",
    "\n",
    "new_ctr['branch'] = 'new'\n",
    "\n",
    "ctr_en_us = pd.concat([old_ctr, new_ctr])\n",
    "ctr_en_us['prob_click'] = ctr_en_us.n_clicked / ctr_en_us.n_total\n",
    "ctr_en_us.to_csv(\"ctr-en-us.csv\", index=False)\n",
    "ctr_en_us\n"
   ]
  },
  {
   "cell_type": "code",
   "execution_count": null,
   "metadata": {},
   "outputs": [],
   "source": [
    "%%bash\n",
    "\n",
    "aws s3 cp ctr-en-us.csv s3://telemetry-test-bucket/bmiroglio/ctr-en-us.csv"
   ]
  },
  {
   "cell_type": "markdown",
   "metadata": {},
   "source": [
    "### Old UI vs New UI click through rate by  locale"
   ]
  },
  {
   "cell_type": "code",
   "execution_count": null,
   "metadata": {},
   "outputs": [],
   "source": [
    "\n",
    "old_ctr = (\n",
    "    old_ui.filter(\"clicked_button = true\")\n",
    "          .groupby(\"locale\")\n",
    "          .agg(F.countDistinct(\"client_id\").alias(\"n_clicked\"))\n",
    "    .join(\n",
    "    old_ui.groupby(\"locale\")\n",
    "          .agg(F.countDistinct(\"client_id\").alias(\"n_total\")),\n",
    "    on='locale')\n",
    ").toPandas()\n",
    "\n",
    "old_ctr['branch'] = 'old'\n",
    "\n",
    "new_ctr = (\n",
    "    exp_data.filter(\"clicked_button = true\")\n",
    "          .groupby(\"locale\")\n",
    "          .agg(F.countDistinct(\"client_id\").alias(\"n_clicked\"))\n",
    "    .join(\n",
    "    exp_data.groupby(\"locale\")\n",
    "          .agg(F.countDistinct(\"client_id\").alias(\"n_total\")),\n",
    "    on='locale')\n",
    ").toPandas()\n",
    "\n",
    "new_ctr['branch'] = 'new'"
   ]
  },
  {
   "cell_type": "code",
   "execution_count": null,
   "metadata": {},
   "outputs": [],
   "source": [
    "ctr_locale = pd.concat([old_ctr, new_ctr])\n",
    "ctr_locale['prob_click'] = ctr_locale.n_clicked / ctr_locale.n_total\n",
    "ctr_locale.to_csv(\"ctr-locale.csv\", index=False)\n",
    "ctr_locale"
   ]
  },
  {
   "cell_type": "code",
   "execution_count": null,
   "metadata": {},
   "outputs": [],
   "source": [
    "%%bash\n",
    "\n",
    "aws s3 cp ctr-locale.csv s3://telemetry-test-bucket/bmiroglio/ctr-locale.csv"
   ]
  },
  {
   "cell_type": "markdown",
   "metadata": {},
   "source": [
    "### Add-on Retention by branch"
   ]
  },
  {
   "cell_type": "code",
   "execution_count": null,
   "metadata": {},
   "outputs": [],
   "source": [
    "ret = get_uninstall_rates(d_bl_wl)\n",
    "ret.to_csv(\"addon-retention.csv\", index=False)\n",
    "ret"
   ]
  },
  {
   "cell_type": "markdown",
   "metadata": {},
   "source": [
    "### Add-on Retention by branch / en-US vs. Non en-US"
   ]
  },
  {
   "cell_type": "code",
   "execution_count": null,
   "metadata": {},
   "outputs": [],
   "source": [
    "reten= get_uninstall_rates(d_bl_wl, grouper=['branch', 'is_en_US'])\n",
    "reten.to_csv(\"addon-en-us-retention.csv\", index=False)\n",
    "reten"
   ]
  },
  {
   "cell_type": "markdown",
   "metadata": {},
   "source": [
    "### Add-on Retention by branch / locale"
   ]
  },
  {
   "cell_type": "code",
   "execution_count": null,
   "metadata": {},
   "outputs": [],
   "source": [
    "retl = get_uninstall_rates(d_bl_wl, grouper=['branch', 'locale'])\n",
    "retl.to_csv(\"addon-locale-retention.csv\", index=False)\n",
    "retl"
   ]
  },
  {
   "cell_type": "code",
   "execution_count": null,
   "metadata": {},
   "outputs": [],
   "source": [
    "%%bash\n",
    "aws s3 cp addon-retention.csv s3://telemetry-test-bucket/bmiroglio/addon-retention.csv\n",
    "aws s3 cp addon-en-us-retention.csv s3://telemetry-test-bucket/bmiroglio/addon-en-us-retention.csv\n",
    "aws s3 cp addon-locale-retention.csv s3://telemetry-test-bucket/bmiroglio/addon-locale-retention.csv"
   ]
  },
  {
   "cell_type": "code",
   "execution_count": null,
   "metadata": {},
   "outputs": [],
   "source": []
  },
  {
   "cell_type": "code",
   "execution_count": null,
   "metadata": {},
   "outputs": [],
   "source": []
  },
  {
   "cell_type": "code",
   "execution_count": null,
   "metadata": {},
   "outputs": [],
   "source": []
  },
  {
   "cell_type": "code",
   "execution_count": null,
   "metadata": {},
   "outputs": [],
   "source": []
  },
  {
   "cell_type": "code",
   "execution_count": null,
   "metadata": {},
   "outputs": [],
   "source": []
  }
 ],
 "metadata": {
  "anaconda-cloud": {},
  "kernelspec": {
   "display_name": "Python [default]",
   "language": "python",
   "name": "python2"
  },
  "language_info": {
   "codemirror_mode": {
    "name": "ipython",
    "version": 2
   },
   "file_extension": ".py",
   "mimetype": "text/x-python",
   "name": "python",
   "nbconvert_exporter": "python",
   "pygments_lexer": "ipython2",
   "version": "2.7.12"
  }
 },
 "nbformat": 4,
 "nbformat_minor": 1
}
